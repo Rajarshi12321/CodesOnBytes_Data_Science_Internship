{
 "cells": [
  {
   "cell_type": "markdown",
   "metadata": {},
   "source": [
    "## TASK 1 : Create  a csv dataset  using python , pandas  and  any public  api "
   ]
  },
  {
   "cell_type": "code",
   "execution_count": 12,
   "metadata": {},
   "outputs": [],
   "source": [
    "# Import required libraries:\n",
    "import pandas as pd\n",
    "import requests"
   ]
  },
  {
   "cell_type": "code",
   "execution_count": 13,
   "metadata": {},
   "outputs": [],
   "source": [
    "# Retrieving data from the data.gov.in API\n",
    "\n",
    "def fetch_users_data():\n",
    "    api_url = \"https://api.data.gov.in/resource/8d3b6596-b09e-4077-aebf-425193185a5b?api-key=579b464db66ec23bdd000001cdd3946e44ce4aad7209ff7b23ac571b&format=json&limit=100\"\n",
    "    response = requests.get(api_url)\n",
    "\n",
    "    if response.status_code == 200:\n",
    "        oil_refiners_data = response.json()\n",
    "        return oil_refiners_data\n",
    "    else:\n",
    "        print(f\"Error fetching data. Status code: {response.status_code}\")\n",
    "        return None\n"
   ]
  },
  {
   "cell_type": "code",
   "execution_count": 14,
   "metadata": {},
   "outputs": [],
   "source": [
    "# Converting data to a Pandas DataFrame and Saving to CSV\n",
    "\n",
    "\n",
    "def convert_and_save_to_csv(csv_file,data):\n",
    "    if data is not None:\n",
    "        df = pd.DataFrame(data)\n",
    "        df.to_csv(csv_file, index=False)\n",
    "        print(f\"CSV dataset '{csv_file}' successfully created.\")\n",
    "    else:\n",
    "        print(\"Failed to create CSV dataset.\") "
   ]
  },
  {
   "cell_type": "code",
   "execution_count": 15,
   "metadata": {},
   "outputs": [
    {
     "data": {
      "text/plain": [
       "{'index_name': '8d3b6596-b09e-4077-aebf-425193185a5b',\n",
       " 'title': 'Monthly Crude Oil Processed by Refineries',\n",
       " 'desc': 'Monthly Crude Oil Processed by Refineries',\n",
       " 'created': 1687434829260,\n",
       " 'updated': 1687434890,\n",
       " 'created_date': '2023-06-22T17:24:31Z',\n",
       " 'updated_date': '2023-06-22T17:24:50Z',\n",
       " 'active': '1',\n",
       " 'visualizable': '1',\n",
       " 'catalog_uuid': 'ed4dbe82-439e-4e7f-b217-ce64627a49fc',\n",
       " 'source': 'data.gov.in',\n",
       " 'org_type': 'Central',\n",
       " 'org': ['Ministry of Petroleum and Natural Gas',\n",
       "  'Petroleum Planning & Analysis Cell (PPAC)'],\n",
       " 'sector': ['Non Renewable'],\n",
       " 'field': [{'name': 'Month', 'id': 'month', 'type': 'keyword'},\n",
       "  {'name': 'Year', 'id': 'year', 'type': 'double'},\n",
       "  {'name': 'OIL COMPANIES', 'id': 'oil_companies_', 'type': 'keyword'},\n",
       "  {'name': 'Quantity (000 Metric Tonnes)',\n",
       "   'id': 'quantity_000_metric_tonnes_',\n",
       "   'type': 'double'},\n",
       "  {'name': 'last_updated',\n",
       "   'format': 'yyyy-MM-dd HH:mm:ss||yyyy-MM-dd||dd/MM/yyyy',\n",
       "   'id': 'last_updated',\n",
       "   'type': 'date'}],\n",
       " 'target_bucket': {'index': 'api',\n",
       "  'type': 'ed4dbe82-439e-4e7f-b217-ce64627a49fc',\n",
       "  'field': '8d3b6596-b09e-4077-aebf-425193185a5b'},\n",
       " 'message': 'Resource lists',\n",
       " 'version': '2.2.0',\n",
       " 'status': 'ok',\n",
       " 'total': 1189,\n",
       " 'count': 10,\n",
       " 'limit': 10,\n",
       " 'offset': '0',\n",
       " 'records': [{'month': 'NA',\n",
       "   'year': '2023',\n",
       "   'oil_companies_': 'CPCL-MANALI, TAMILNADU',\n",
       "   'quantity_000_metric_tonnes_': '919.52',\n",
       "   'last_updated': 'NA'},\n",
       "  {'month': 'NA',\n",
       "   'year': '2023',\n",
       "   'oil_companies_': 'ONGC-TATIPAKA,ANDHRA PRADESH',\n",
       "   'quantity_000_metric_tonnes_': '6.63',\n",
       "   'last_updated': 'NA'},\n",
       "  {'month': 'NA',\n",
       "   'year': '2023',\n",
       "   'oil_companies_': 'NEL-VADINAR,GUJARAT',\n",
       "   'quantity_000_metric_tonnes_': '1670.56',\n",
       "   'last_updated': 'NA'},\n",
       "  {'month': 'NA',\n",
       "   'year': '2023',\n",
       "   'oil_companies_': 'IOCL-BARAUNI,BIHAR',\n",
       "   'quantity_000_metric_tonnes_': '579.56',\n",
       "   'last_updated': 'NA'},\n",
       "  {'month': 'NA',\n",
       "   'year': '2023',\n",
       "   'oil_companies_': 'IOCL-MATHURA, UTTAR PRADESH',\n",
       "   'quantity_000_metric_tonnes_': '833.52',\n",
       "   'last_updated': 'NA'},\n",
       "  {'month': 'NA',\n",
       "   'year': '2023',\n",
       "   'oil_companies_': 'CPCL-MANALI, TAMILNADU',\n",
       "   'quantity_000_metric_tonnes_': '941.28',\n",
       "   'last_updated': 'NA'},\n",
       "  {'month': 'NA',\n",
       "   'year': '2023',\n",
       "   'oil_companies_': 'MRPL-MANGALORE,KARNATAKA',\n",
       "   'quantity_000_metric_tonnes_': '1494.17',\n",
       "   'last_updated': 'NA'},\n",
       "  {'month': 'NA',\n",
       "   'year': '2023',\n",
       "   'oil_companies_': 'HPCL-VISAKH,ANDHRA PRADESH',\n",
       "   'quantity_000_metric_tonnes_': '1066.12',\n",
       "   'last_updated': 'NA'},\n",
       "  {'month': 'NA',\n",
       "   'year': '2023',\n",
       "   'oil_companies_': 'HMEL-GGSR, BATHINDA, PUNJAB',\n",
       "   'quantity_000_metric_tonnes_': '1101.06',\n",
       "   'last_updated': 'NA'},\n",
       "  {'month': 'NA',\n",
       "   'year': '2023',\n",
       "   'oil_companies_': 'IOCL-PARADIP,ODISHA',\n",
       "   'quantity_000_metric_tonnes_': '1346.43',\n",
       "   'last_updated': 'NA'}]}"
      ]
     },
     "execution_count": 15,
     "metadata": {},
     "output_type": "execute_result"
    }
   ],
   "source": [
    "# Fetch user data from the JSONPlaceholder API\n",
    "oil_refiners_data = fetch_users_data()\n",
    "\n",
    "# Displaying the raw json data\n",
    "oil_refiners_data"
   ]
  },
  {
   "cell_type": "code",
   "execution_count": 16,
   "metadata": {},
   "outputs": [
    {
     "data": {
      "text/html": [
       "<div>\n",
       "<style scoped>\n",
       "    .dataframe tbody tr th:only-of-type {\n",
       "        vertical-align: middle;\n",
       "    }\n",
       "\n",
       "    .dataframe tbody tr th {\n",
       "        vertical-align: top;\n",
       "    }\n",
       "\n",
       "    .dataframe thead th {\n",
       "        text-align: right;\n",
       "    }\n",
       "</style>\n",
       "<table border=\"1\" class=\"dataframe\">\n",
       "  <thead>\n",
       "    <tr style=\"text-align: right;\">\n",
       "      <th></th>\n",
       "      <th>month</th>\n",
       "      <th>year</th>\n",
       "      <th>oil_companies_</th>\n",
       "      <th>quantity_000_metric_tonnes_</th>\n",
       "      <th>last_updated</th>\n",
       "    </tr>\n",
       "  </thead>\n",
       "  <tbody>\n",
       "    <tr>\n",
       "      <th>0</th>\n",
       "      <td>&lt;NA&gt;</td>\n",
       "      <td>2023</td>\n",
       "      <td>CPCL-MANALI, TAMILNADU</td>\n",
       "      <td>919.52</td>\n",
       "      <td>&lt;NA&gt;</td>\n",
       "    </tr>\n",
       "    <tr>\n",
       "      <th>1</th>\n",
       "      <td>&lt;NA&gt;</td>\n",
       "      <td>2023</td>\n",
       "      <td>ONGC-TATIPAKA,ANDHRA PRADESH</td>\n",
       "      <td>6.63</td>\n",
       "      <td>&lt;NA&gt;</td>\n",
       "    </tr>\n",
       "    <tr>\n",
       "      <th>2</th>\n",
       "      <td>&lt;NA&gt;</td>\n",
       "      <td>2023</td>\n",
       "      <td>NEL-VADINAR,GUJARAT</td>\n",
       "      <td>1670.56</td>\n",
       "      <td>&lt;NA&gt;</td>\n",
       "    </tr>\n",
       "    <tr>\n",
       "      <th>3</th>\n",
       "      <td>&lt;NA&gt;</td>\n",
       "      <td>2023</td>\n",
       "      <td>IOCL-BARAUNI,BIHAR</td>\n",
       "      <td>579.56</td>\n",
       "      <td>&lt;NA&gt;</td>\n",
       "    </tr>\n",
       "    <tr>\n",
       "      <th>4</th>\n",
       "      <td>&lt;NA&gt;</td>\n",
       "      <td>2023</td>\n",
       "      <td>IOCL-MATHURA, UTTAR PRADESH</td>\n",
       "      <td>833.52</td>\n",
       "      <td>&lt;NA&gt;</td>\n",
       "    </tr>\n",
       "    <tr>\n",
       "      <th>5</th>\n",
       "      <td>&lt;NA&gt;</td>\n",
       "      <td>2023</td>\n",
       "      <td>CPCL-MANALI, TAMILNADU</td>\n",
       "      <td>941.28</td>\n",
       "      <td>&lt;NA&gt;</td>\n",
       "    </tr>\n",
       "    <tr>\n",
       "      <th>6</th>\n",
       "      <td>&lt;NA&gt;</td>\n",
       "      <td>2023</td>\n",
       "      <td>MRPL-MANGALORE,KARNATAKA</td>\n",
       "      <td>1494.17</td>\n",
       "      <td>&lt;NA&gt;</td>\n",
       "    </tr>\n",
       "    <tr>\n",
       "      <th>7</th>\n",
       "      <td>&lt;NA&gt;</td>\n",
       "      <td>2023</td>\n",
       "      <td>HPCL-VISAKH,ANDHRA PRADESH</td>\n",
       "      <td>1066.12</td>\n",
       "      <td>&lt;NA&gt;</td>\n",
       "    </tr>\n",
       "    <tr>\n",
       "      <th>8</th>\n",
       "      <td>&lt;NA&gt;</td>\n",
       "      <td>2023</td>\n",
       "      <td>HMEL-GGSR, BATHINDA, PUNJAB</td>\n",
       "      <td>1101.06</td>\n",
       "      <td>&lt;NA&gt;</td>\n",
       "    </tr>\n",
       "    <tr>\n",
       "      <th>9</th>\n",
       "      <td>&lt;NA&gt;</td>\n",
       "      <td>2023</td>\n",
       "      <td>IOCL-PARADIP,ODISHA</td>\n",
       "      <td>1346.43</td>\n",
       "      <td>&lt;NA&gt;</td>\n",
       "    </tr>\n",
       "  </tbody>\n",
       "</table>\n",
       "</div>"
      ],
      "text/plain": [
       "  month  year                oil_companies_ quantity_000_metric_tonnes_  \\\n",
       "0  <NA>  2023        CPCL-MANALI, TAMILNADU                      919.52   \n",
       "1  <NA>  2023  ONGC-TATIPAKA,ANDHRA PRADESH                        6.63   \n",
       "2  <NA>  2023           NEL-VADINAR,GUJARAT                     1670.56   \n",
       "3  <NA>  2023            IOCL-BARAUNI,BIHAR                      579.56   \n",
       "4  <NA>  2023   IOCL-MATHURA, UTTAR PRADESH                      833.52   \n",
       "5  <NA>  2023        CPCL-MANALI, TAMILNADU                      941.28   \n",
       "6  <NA>  2023      MRPL-MANGALORE,KARNATAKA                     1494.17   \n",
       "7  <NA>  2023    HPCL-VISAKH,ANDHRA PRADESH                     1066.12   \n",
       "8  <NA>  2023   HMEL-GGSR, BATHINDA, PUNJAB                     1101.06   \n",
       "9  <NA>  2023           IOCL-PARADIP,ODISHA                     1346.43   \n",
       "\n",
       "  last_updated  \n",
       "0         <NA>  \n",
       "1         <NA>  \n",
       "2         <NA>  \n",
       "3         <NA>  \n",
       "4         <NA>  \n",
       "5         <NA>  \n",
       "6         <NA>  \n",
       "7         <NA>  \n",
       "8         <NA>  \n",
       "9         <NA>  "
      ]
     },
     "execution_count": 16,
     "metadata": {},
     "output_type": "execute_result"
    }
   ],
   "source": [
    "# Extracting the records\n",
    "records = oil_refiners_data.get(\"records\", [])\n",
    "\n",
    "# Converting records to Pandas DataFrame\n",
    "df = pd.DataFrame(records)\n",
    "\n",
    "# Replacing 'NA' with pd.NA\n",
    "df.replace('NA', pd.NA, inplace=True)\n",
    "\n",
    "\n",
    "# Displaying the DataFrame\n",
    "df"
   ]
  },
  {
   "cell_type": "code",
   "execution_count": 17,
   "metadata": {},
   "outputs": [
    {
     "name": "stdout",
     "output_type": "stream",
     "text": [
      "CSV dataset 'oil_refiners_data.csv' successfully created.\n"
     ]
    }
   ],
   "source": [
    "## Now saving the Pandas DataFrame to CSV\n",
    "\n",
    "# Specify the CSV filename\n",
    "csv_file = \"oil_refiners_data.csv\"\n",
    "\n",
    "\n",
    "# Create a Pandas DataFrame and save it to CSV\n",
    "convert_and_save_to_csv(csv_file, df)\n"
   ]
  },
  {
   "cell_type": "code",
   "execution_count": 18,
   "metadata": {},
   "outputs": [
    {
     "data": {
      "text/html": [
       "<div>\n",
       "<style scoped>\n",
       "    .dataframe tbody tr th:only-of-type {\n",
       "        vertical-align: middle;\n",
       "    }\n",
       "\n",
       "    .dataframe tbody tr th {\n",
       "        vertical-align: top;\n",
       "    }\n",
       "\n",
       "    .dataframe thead th {\n",
       "        text-align: right;\n",
       "    }\n",
       "</style>\n",
       "<table border=\"1\" class=\"dataframe\">\n",
       "  <thead>\n",
       "    <tr style=\"text-align: right;\">\n",
       "      <th></th>\n",
       "      <th>month</th>\n",
       "      <th>year</th>\n",
       "      <th>oil_companies_</th>\n",
       "      <th>quantity_000_metric_tonnes_</th>\n",
       "      <th>last_updated</th>\n",
       "    </tr>\n",
       "  </thead>\n",
       "  <tbody>\n",
       "    <tr>\n",
       "      <th>0</th>\n",
       "      <td>NaN</td>\n",
       "      <td>2023</td>\n",
       "      <td>CPCL-MANALI, TAMILNADU</td>\n",
       "      <td>919.52</td>\n",
       "      <td>NaN</td>\n",
       "    </tr>\n",
       "    <tr>\n",
       "      <th>1</th>\n",
       "      <td>NaN</td>\n",
       "      <td>2023</td>\n",
       "      <td>ONGC-TATIPAKA,ANDHRA PRADESH</td>\n",
       "      <td>6.63</td>\n",
       "      <td>NaN</td>\n",
       "    </tr>\n",
       "    <tr>\n",
       "      <th>2</th>\n",
       "      <td>NaN</td>\n",
       "      <td>2023</td>\n",
       "      <td>NEL-VADINAR,GUJARAT</td>\n",
       "      <td>1670.56</td>\n",
       "      <td>NaN</td>\n",
       "    </tr>\n",
       "    <tr>\n",
       "      <th>3</th>\n",
       "      <td>NaN</td>\n",
       "      <td>2023</td>\n",
       "      <td>IOCL-BARAUNI,BIHAR</td>\n",
       "      <td>579.56</td>\n",
       "      <td>NaN</td>\n",
       "    </tr>\n",
       "    <tr>\n",
       "      <th>4</th>\n",
       "      <td>NaN</td>\n",
       "      <td>2023</td>\n",
       "      <td>IOCL-MATHURA, UTTAR PRADESH</td>\n",
       "      <td>833.52</td>\n",
       "      <td>NaN</td>\n",
       "    </tr>\n",
       "  </tbody>\n",
       "</table>\n",
       "</div>"
      ],
      "text/plain": [
       "   month  year                oil_companies_  quantity_000_metric_tonnes_  \\\n",
       "0    NaN  2023        CPCL-MANALI, TAMILNADU                       919.52   \n",
       "1    NaN  2023  ONGC-TATIPAKA,ANDHRA PRADESH                         6.63   \n",
       "2    NaN  2023           NEL-VADINAR,GUJARAT                      1670.56   \n",
       "3    NaN  2023            IOCL-BARAUNI,BIHAR                       579.56   \n",
       "4    NaN  2023   IOCL-MATHURA, UTTAR PRADESH                       833.52   \n",
       "\n",
       "   last_updated  \n",
       "0           NaN  \n",
       "1           NaN  \n",
       "2           NaN  \n",
       "3           NaN  \n",
       "4           NaN  "
      ]
     },
     "execution_count": 18,
     "metadata": {},
     "output_type": "execute_result"
    }
   ],
   "source": [
    "## Now inspecting the saved csv file\n",
    "\n",
    "# Saved CSV file name:\n",
    "csv_filename = \"oil_refiners_data.csv\"\n",
    "\n",
    "# Reading the CSV file into a Pandas DataFrame\n",
    "df = pd.read_csv(csv_filename)\n",
    "\n",
    "# Dispaying first five columns of dataset\n",
    "df.head()"
   ]
  },
  {
   "cell_type": "code",
   "execution_count": 19,
   "metadata": {},
   "outputs": [
    {
     "data": {
      "text/plain": [
       "Index(['month', 'year', 'oil_companies_', 'quantity_000_metric_tonnes_',\n",
       "       'last_updated'],\n",
       "      dtype='object')"
      ]
     },
     "execution_count": 19,
     "metadata": {},
     "output_type": "execute_result"
    }
   ],
   "source": [
    "# Checking Coulmn names\n",
    "df.columns"
   ]
  },
  {
   "cell_type": "code",
   "execution_count": 20,
   "metadata": {},
   "outputs": [
    {
     "name": "stdout",
     "output_type": "stream",
     "text": [
      "<class 'pandas.core.frame.DataFrame'>\n",
      "RangeIndex: 10 entries, 0 to 9\n",
      "Data columns (total 5 columns):\n",
      " #   Column                       Non-Null Count  Dtype  \n",
      "---  ------                       --------------  -----  \n",
      " 0   month                        0 non-null      float64\n",
      " 1   year                         10 non-null     int64  \n",
      " 2   oil_companies_               10 non-null     object \n",
      " 3   quantity_000_metric_tonnes_  10 non-null     float64\n",
      " 4   last_updated                 0 non-null      float64\n",
      "dtypes: float64(3), int64(1), object(1)\n",
      "memory usage: 528.0+ bytes\n"
     ]
    }
   ],
   "source": [
    "# Checking column datatypes:\n",
    "df.info()"
   ]
  },
  {
   "cell_type": "code",
   "execution_count": 21,
   "metadata": {},
   "outputs": [
    {
     "data": {
      "text/plain": [
       "(10, 5)"
      ]
     },
     "execution_count": 21,
     "metadata": {},
     "output_type": "execute_result"
    }
   ],
   "source": [
    "# Checking dataset shape:\n",
    "df.shape"
   ]
  },
  {
   "cell_type": "code",
   "execution_count": 22,
   "metadata": {},
   "outputs": [
    {
     "data": {
      "text/plain": [
       "month                          10\n",
       "year                            0\n",
       "oil_companies_                  0\n",
       "quantity_000_metric_tonnes_     0\n",
       "last_updated                   10\n",
       "dtype: int64"
      ]
     },
     "execution_count": 22,
     "metadata": {},
     "output_type": "execute_result"
    }
   ],
   "source": [
    "# Checking null datesets in dataset:\n",
    "df.isnull().sum()"
   ]
  }
 ],
 "metadata": {
  "kernelspec": {
   "display_name": "base",
   "language": "python",
   "name": "python3"
  },
  "language_info": {
   "codemirror_mode": {
    "name": "ipython",
    "version": 3
   },
   "file_extension": ".py",
   "mimetype": "text/x-python",
   "name": "python",
   "nbconvert_exporter": "python",
   "pygments_lexer": "ipython3",
   "version": "3.9.13"
  }
 },
 "nbformat": 4,
 "nbformat_minor": 2
}
